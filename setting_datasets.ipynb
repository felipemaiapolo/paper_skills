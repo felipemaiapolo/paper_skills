{
 "cells": [
  {
   "cell_type": "markdown",
   "metadata": {},
   "source": [
    "### Pacotes"
   ]
  },
  {
   "cell_type": "code",
   "execution_count": 2,
   "metadata": {},
   "outputs": [],
   "source": [
    "library(foreign)\n",
    "library(readstata13)\n",
    "library(plyr)\n",
    "library(dplyr)"
   ]
  },
  {
   "cell_type": "code",
   "execution_count": 3,
   "metadata": {},
   "outputs": [],
   "source": [
    "bases<-'/home/felipe/Desktop/Paper Bayesiana/Bases'"
   ]
  },
  {
   "cell_type": "markdown",
   "metadata": {},
   "source": [
    "### Abrindo todas as bases necessárias"
   ]
  },
  {
   "cell_type": "code",
   "execution_count": 7,
   "metadata": {},
   "outputs": [],
   "source": [
    "#2012\n",
    "context_12 <- read.dta13(paste(bases,\"/2012/alunos_id.dta\",sep=\"\"), nonint.factors=T)\n",
    "se_12 <- read.dta13(paste(bases,\"/2012/Socioemo1_2012_facet.dta\",sep=\"\"), nonint.factors=T)\n",
    "grades_12 <- read.dta13(paste(bases,\"/2012/proficiencia_id.dta\",sep=\"\"), nonint.factors=T)\n",
    "educ_moth_12 <- read.dta13(paste(bases,\"/2012/escolaridade_mae.dta\",sep=\"\"), nonint.factors=T)\n",
    "\n",
    "#2017\n",
    "register_17 <- read.dta13(paste(bases,\"/2017/Cadastro_2017.dta\",sep=\"\"), nonint.factors=T)\n",
    "educ_moth_17 <- read.dta13(paste(bases,\"/2017/escolaridade_mae.dta\",sep=\"\"), nonint.factors=T)\n",
    "parents_17 <- read.dta13(paste(bases,\"/2017/Pais_2017.dta\",sep=\"\"), nonint.factors=T)\n",
    "\n",
    "#Censo Escolar\n",
    "dic_escolas_12<-read.csv(\"/home/felipe/Desktop/Paper Bayesiana/Bases/2012/dic_escolas_12.csv\", sep=\";\", header=T, encoding = \"UTF-8\")\n",
    "censo_escolas_12<-read.csv(\"/home/felipe/Desktop/Paper Bayesiana/Bases/2012/censo2012_escolas.csv\", sep=\";\", header=T, encoding = \"UTF-8\")"
   ]
  },
  {
   "cell_type": "code",
   "execution_count": 8,
   "metadata": {},
   "outputs": [
    {
     "data": {
      "text/html": [
       "<ol class=list-inline>\n",
       "\t<li>1868</li>\n",
       "\t<li>121</li>\n",
       "</ol>\n"
      ],
      "text/latex": [
       "\\begin{enumerate*}\n",
       "\\item 1868\n",
       "\\item 121\n",
       "\\end{enumerate*}\n"
      ],
      "text/markdown": [
       "1. 1868\n",
       "2. 121\n",
       "\n",
       "\n"
      ],
      "text/plain": [
       "[1] 1868  121"
      ]
     },
     "metadata": {},
     "output_type": "display_data"
    }
   ],
   "source": [
    "dim(parents_17)"
   ]
  },
  {
   "cell_type": "markdown",
   "metadata": {},
   "source": [
    "## Bases 12"
   ]
  },
  {
   "cell_type": "markdown",
   "metadata": {},
   "source": [
    "### Contexto 12"
   ]
  },
  {
   "cell_type": "code",
   "execution_count": 9,
   "metadata": {},
   "outputs": [],
   "source": [
    "vars<-c(\"id_lepes\",'nome_aluno_12','sexo_12', 'serie_12',\n",
    "        'escola_12', 'nome_escola_12',\n",
    "        'aluno2_12','aluno3_2_12','aluno3_3_12','aluno11_12') \n",
    "  \n",
    "context_12<-context_12[vars]\n",
    "names(context_12)[(length(context_12)-3):length(context_12)] <- c(\"etnia_12\",\"mes_nasc\",\"ano_nasc\",'reprov_antes_12_12')"
   ]
  },
  {
   "cell_type": "code",
   "execution_count": 10,
   "metadata": {
    "scrolled": true
   },
   "outputs": [
    {
     "data": {
      "text/html": [
       "<table>\n",
       "<thead><tr><th scope=col>id_lepes</th><th scope=col>nome_aluno_12</th><th scope=col>sexo_12</th><th scope=col>serie_12</th><th scope=col>escola_12</th><th scope=col>nome_escola_12</th><th scope=col>etnia_12</th><th scope=col>mes_nasc</th><th scope=col>ano_nasc</th><th scope=col>reprov_antes_12_12</th></tr></thead>\n",
       "<tbody>\n",
       "\t<tr><td>4                       </td><td>ADRIELLE RODRIGUES CRUZ </td><td>Feminino                </td><td>5                       </td><td> 4                      </td><td>DOUTOR SILVIO SARTI EMEF</td><td>Pardo                   </td><td>9                       </td><td>2001                    </td><td>Nunca                   </td></tr>\n",
       "\t<tr><td>5                       </td><td>ABIGAIL SILVA VIEIRA    </td><td>Feminino                </td><td>5                       </td><td>16                      </td><td>WALDOMIRO GOMES EMEF    </td><td>Pardo                   </td><td>6                       </td><td>2002                    </td><td>Nunca                   </td></tr>\n",
       "\t<tr><td>7                       </td><td>ABNER GABRIEL DOS SANTOS</td><td>Masculino               </td><td>6                       </td><td>22                      </td><td>ANNA PASSAMONTI BALARDIN</td><td>Branco                  </td><td>9                       </td><td>2000                    </td><td>Nunca                   </td></tr>\n",
       "</tbody>\n",
       "</table>\n"
      ],
      "text/latex": [
       "\\begin{tabular}{r|llllllllll}\n",
       " id\\_lepes & nome\\_aluno\\_12 & sexo\\_12 & serie\\_12 & escola\\_12 & nome\\_escola\\_12 & etnia\\_12 & mes\\_nasc & ano\\_nasc & reprov\\_antes\\_12\\_12\\\\\n",
       "\\hline\n",
       "\t 4                        & ADRIELLE RODRIGUES CRUZ  & Feminino                 & 5                        &  4                       & DOUTOR SILVIO SARTI EMEF & Pardo                    & 9                        & 2001                     & Nunca                   \\\\\n",
       "\t 5                        & ABIGAIL SILVA VIEIRA     & Feminino                 & 5                        & 16                       & WALDOMIRO GOMES EMEF     & Pardo                    & 6                        & 2002                     & Nunca                   \\\\\n",
       "\t 7                        & ABNER GABRIEL DOS SANTOS & Masculino                & 6                        & 22                       & ANNA PASSAMONTI BALARDIN & Branco                   & 9                        & 2000                     & Nunca                   \\\\\n",
       "\\end{tabular}\n"
      ],
      "text/markdown": [
       "\n",
       "id_lepes | nome_aluno_12 | sexo_12 | serie_12 | escola_12 | nome_escola_12 | etnia_12 | mes_nasc | ano_nasc | reprov_antes_12_12 | \n",
       "|---|---|---|\n",
       "| 4                        | ADRIELLE RODRIGUES CRUZ  | Feminino                 | 5                        |  4                       | DOUTOR SILVIO SARTI EMEF | Pardo                    | 9                        | 2001                     | Nunca                    | \n",
       "| 5                        | ABIGAIL SILVA VIEIRA     | Feminino                 | 5                        | 16                       | WALDOMIRO GOMES EMEF     | Pardo                    | 6                        | 2002                     | Nunca                    | \n",
       "| 7                        | ABNER GABRIEL DOS SANTOS | Masculino                | 6                        | 22                       | ANNA PASSAMONTI BALARDIN | Branco                   | 9                        | 2000                     | Nunca                    | \n",
       "\n",
       "\n"
      ],
      "text/plain": [
       "  id_lepes nome_aluno_12            sexo_12   serie_12 escola_12\n",
       "1 4        ADRIELLE RODRIGUES CRUZ  Feminino  5         4       \n",
       "2 5        ABIGAIL SILVA VIEIRA     Feminino  5        16       \n",
       "3 7        ABNER GABRIEL DOS SANTOS Masculino 6        22       \n",
       "  nome_escola_12           etnia_12 mes_nasc ano_nasc reprov_antes_12_12\n",
       "1 DOUTOR SILVIO SARTI EMEF Pardo    9        2001     Nunca             \n",
       "2 WALDOMIRO GOMES EMEF     Pardo    6        2002     Nunca             \n",
       "3 ANNA PASSAMONTI BALARDIN Branco   9        2000     Nunca             "
      ]
     },
     "metadata": {},
     "output_type": "display_data"
    }
   ],
   "source": [
    "context_12[1:3,]"
   ]
  },
  {
   "cell_type": "markdown",
   "metadata": {},
   "source": [
    "### Socioemocional 12"
   ]
  },
  {
   "cell_type": "code",
   "execution_count": 11,
   "metadata": {},
   "outputs": [],
   "source": [
    "vars<-c(\"id_lepes\",'a_c_12', 'c_c_12', 'e_c_12', 'n_c_12', 'o_c_12', #Big 5\n",
    "        'act_c_12', 'aes_c_12', 'alt_c_12', 'anx_c_12', 'ass_c_12', #Facets\n",
    "        'cmp_c_12', 'dep_c_12', 'ids_c_12', 'ord_c_12', 'sfd_c_12') #Facets\n",
    "  \n",
    "se_12<-se_12[vars]"
   ]
  },
  {
   "cell_type": "code",
   "execution_count": 12,
   "metadata": {
    "scrolled": true
   },
   "outputs": [
    {
     "data": {
      "text/html": [
       "<table>\n",
       "<thead><tr><th scope=col>id_lepes</th><th scope=col>a_c_12</th><th scope=col>c_c_12</th><th scope=col>e_c_12</th><th scope=col>n_c_12</th><th scope=col>o_c_12</th><th scope=col>act_c_12</th><th scope=col>aes_c_12</th><th scope=col>alt_c_12</th><th scope=col>anx_c_12</th><th scope=col>ass_c_12</th><th scope=col>cmp_c_12</th><th scope=col>dep_c_12</th><th scope=col>ids_c_12</th><th scope=col>ord_c_12</th><th scope=col>sfd_c_12</th></tr></thead>\n",
       "<tbody>\n",
       "\t<tr><td>  4         </td><td>-0.4423963  </td><td> 0.48093842 </td><td> 0.6491935  </td><td> 0.225806452</td><td>-0.1684588  </td><td> 0.9583333  </td><td>-0.3472222  </td><td>-0.3472222  </td><td>0.25        </td><td> 0.6083333  </td><td> 0.6805556  </td><td> 1.041667   </td><td> 0.1750000  </td><td> 0.04166667 </td><td> 0.9916667  </td></tr>\n",
       "\t<tr><td> 14         </td><td>-0.3750000  </td><td>-0.07670455 </td><td> 0.3046875  </td><td>-0.054687500</td><td>-0.1562500  </td><td> 0.0600000  </td><td>-0.1466667  </td><td>-0.2200000  </td><td>0.00        </td><td> 0.4880000  </td><td>-0.1866667  </td><td>-1.060000   </td><td>-0.2640000  </td><td>-0.06000000 </td><td> 0.3120000  </td></tr>\n",
       "\t<tr><td>116         </td><td>-0.4334975  </td><td>-0.50689655 </td><td>-0.5763547  </td><td> 0.004926108</td><td>-0.3524904  </td><td>-0.7173913  </td><td>-0.7391304  </td><td>-1.1086957  </td><td>0.50        </td><td>-0.1413043  </td><td> 0.0000000  </td><td>-1.782609   </td><td>-0.1304348  </td><td> 0.21739130 </td><td>-0.4434783  </td></tr>\n",
       "</tbody>\n",
       "</table>\n"
      ],
      "text/latex": [
       "\\begin{tabular}{r|llllllllllllllll}\n",
       " id\\_lepes & a\\_c\\_12 & c\\_c\\_12 & e\\_c\\_12 & n\\_c\\_12 & o\\_c\\_12 & act\\_c\\_12 & aes\\_c\\_12 & alt\\_c\\_12 & anx\\_c\\_12 & ass\\_c\\_12 & cmp\\_c\\_12 & dep\\_c\\_12 & ids\\_c\\_12 & ord\\_c\\_12 & sfd\\_c\\_12\\\\\n",
       "\\hline\n",
       "\t   4          & -0.4423963   &  0.48093842  &  0.6491935   &  0.225806452 & -0.1684588   &  0.9583333   & -0.3472222   & -0.3472222   & 0.25         &  0.6083333   &  0.6805556   &  1.041667    &  0.1750000   &  0.04166667  &  0.9916667  \\\\\n",
       "\t  14          & -0.3750000   & -0.07670455  &  0.3046875   & -0.054687500 & -0.1562500   &  0.0600000   & -0.1466667   & -0.2200000   & 0.00         &  0.4880000   & -0.1866667   & -1.060000    & -0.2640000   & -0.06000000  &  0.3120000  \\\\\n",
       "\t 116          & -0.4334975   & -0.50689655  & -0.5763547   &  0.004926108 & -0.3524904   & -0.7173913   & -0.7391304   & -1.1086957   & 0.50         & -0.1413043   &  0.0000000   & -1.782609    & -0.1304348   &  0.21739130  & -0.4434783  \\\\\n",
       "\\end{tabular}\n"
      ],
      "text/markdown": [
       "\n",
       "id_lepes | a_c_12 | c_c_12 | e_c_12 | n_c_12 | o_c_12 | act_c_12 | aes_c_12 | alt_c_12 | anx_c_12 | ass_c_12 | cmp_c_12 | dep_c_12 | ids_c_12 | ord_c_12 | sfd_c_12 | \n",
       "|---|---|---|\n",
       "|   4          | -0.4423963   |  0.48093842  |  0.6491935   |  0.225806452 | -0.1684588   |  0.9583333   | -0.3472222   | -0.3472222   | 0.25         |  0.6083333   |  0.6805556   |  1.041667    |  0.1750000   |  0.04166667  |  0.9916667   | \n",
       "|  14          | -0.3750000   | -0.07670455  |  0.3046875   | -0.054687500 | -0.1562500   |  0.0600000   | -0.1466667   | -0.2200000   | 0.00         |  0.4880000   | -0.1866667   | -1.060000    | -0.2640000   | -0.06000000  |  0.3120000   | \n",
       "| 116          | -0.4334975   | -0.50689655  | -0.5763547   |  0.004926108 | -0.3524904   | -0.7173913   | -0.7391304   | -1.1086957   | 0.50         | -0.1413043   |  0.0000000   | -1.782609    | -0.1304348   |  0.21739130  | -0.4434783   | \n",
       "\n",
       "\n"
      ],
      "text/plain": [
       "  id_lepes a_c_12     c_c_12      e_c_12     n_c_12       o_c_12     act_c_12  \n",
       "1   4      -0.4423963  0.48093842  0.6491935  0.225806452 -0.1684588  0.9583333\n",
       "2  14      -0.3750000 -0.07670455  0.3046875 -0.054687500 -0.1562500  0.0600000\n",
       "3 116      -0.4334975 -0.50689655 -0.5763547  0.004926108 -0.3524904 -0.7173913\n",
       "  aes_c_12   alt_c_12   anx_c_12 ass_c_12   cmp_c_12   dep_c_12  ids_c_12  \n",
       "1 -0.3472222 -0.3472222 0.25      0.6083333  0.6805556  1.041667  0.1750000\n",
       "2 -0.1466667 -0.2200000 0.00      0.4880000 -0.1866667 -1.060000 -0.2640000\n",
       "3 -0.7391304 -1.1086957 0.50     -0.1413043  0.0000000 -1.782609 -0.1304348\n",
       "  ord_c_12    sfd_c_12  \n",
       "1  0.04166667  0.9916667\n",
       "2 -0.06000000  0.3120000\n",
       "3  0.21739130 -0.4434783"
      ]
     },
     "metadata": {},
     "output_type": "display_data"
    }
   ],
   "source": [
    "se_12[1:3,]"
   ]
  },
  {
   "cell_type": "markdown",
   "metadata": {},
   "source": [
    "### Grades 12"
   ]
  },
  {
   "cell_type": "code",
   "execution_count": 13,
   "metadata": {},
   "outputs": [],
   "source": [
    "vars<-c(\"id_lepes\",'habilidade_port_12','habilidade_mat_12') \n",
    "  \n",
    "grades_12<-grades_12[vars]"
   ]
  },
  {
   "cell_type": "code",
   "execution_count": 14,
   "metadata": {
    "scrolled": true
   },
   "outputs": [
    {
     "data": {
      "text/html": [
       "<table>\n",
       "<thead><tr><th scope=col>id_lepes</th><th scope=col>habilidade_port_12</th><th scope=col>habilidade_mat_12</th></tr></thead>\n",
       "<tbody>\n",
       "\t<tr><td>1       </td><td>58.67633</td><td>45.07105</td></tr>\n",
       "\t<tr><td>2       </td><td>70.39801</td><td>45.20639</td></tr>\n",
       "\t<tr><td>3       </td><td>71.52990</td><td>38.93849</td></tr>\n",
       "</tbody>\n",
       "</table>\n"
      ],
      "text/latex": [
       "\\begin{tabular}{r|lll}\n",
       " id\\_lepes & habilidade\\_port\\_12 & habilidade\\_mat\\_12\\\\\n",
       "\\hline\n",
       "\t 1        & 58.67633 & 45.07105\\\\\n",
       "\t 2        & 70.39801 & 45.20639\\\\\n",
       "\t 3        & 71.52990 & 38.93849\\\\\n",
       "\\end{tabular}\n"
      ],
      "text/markdown": [
       "\n",
       "id_lepes | habilidade_port_12 | habilidade_mat_12 | \n",
       "|---|---|---|\n",
       "| 1        | 58.67633 | 45.07105 | \n",
       "| 2        | 70.39801 | 45.20639 | \n",
       "| 3        | 71.52990 | 38.93849 | \n",
       "\n",
       "\n"
      ],
      "text/plain": [
       "  id_lepes habilidade_port_12 habilidade_mat_12\n",
       "1 1        58.67633           45.07105         \n",
       "2 2        70.39801           45.20639         \n",
       "3 3        71.52990           38.93849         "
      ]
     },
     "metadata": {},
     "output_type": "display_data"
    }
   ],
   "source": [
    "grades_12[1:3,]"
   ]
  },
  {
   "cell_type": "markdown",
   "metadata": {},
   "source": [
    "### Escolaridade da mãe 12"
   ]
  },
  {
   "cell_type": "code",
   "execution_count": 15,
   "metadata": {},
   "outputs": [],
   "source": [
    "names(educ_moth_12) <- c('id_lepes', 'educmae1_12', 'educmae2_12', 'educmae3_12', \n",
    "                                     'educmae4_12', 'educmae5_12', 'educmae6_12')"
   ]
  },
  {
   "cell_type": "code",
   "execution_count": 16,
   "metadata": {},
   "outputs": [
    {
     "data": {
      "text/html": [
       "<table>\n",
       "<thead><tr><th scope=col>id_lepes</th><th scope=col>educmae1_12</th><th scope=col>educmae2_12</th><th scope=col>educmae3_12</th><th scope=col>educmae4_12</th><th scope=col>educmae5_12</th><th scope=col>educmae6_12</th></tr></thead>\n",
       "<tbody>\n",
       "\t<tr><td>4</td><td>1</td><td>0</td><td>0</td><td>0</td><td>0</td><td>0</td></tr>\n",
       "\t<tr><td>5</td><td>0</td><td>0</td><td>1</td><td>0</td><td>0</td><td>0</td></tr>\n",
       "\t<tr><td>7</td><td>0</td><td>1</td><td>0</td><td>0</td><td>0</td><td>0</td></tr>\n",
       "</tbody>\n",
       "</table>\n"
      ],
      "text/latex": [
       "\\begin{tabular}{r|lllllll}\n",
       " id\\_lepes & educmae1\\_12 & educmae2\\_12 & educmae3\\_12 & educmae4\\_12 & educmae5\\_12 & educmae6\\_12\\\\\n",
       "\\hline\n",
       "\t 4 & 1 & 0 & 0 & 0 & 0 & 0\\\\\n",
       "\t 5 & 0 & 0 & 1 & 0 & 0 & 0\\\\\n",
       "\t 7 & 0 & 1 & 0 & 0 & 0 & 0\\\\\n",
       "\\end{tabular}\n"
      ],
      "text/markdown": [
       "\n",
       "id_lepes | educmae1_12 | educmae2_12 | educmae3_12 | educmae4_12 | educmae5_12 | educmae6_12 | \n",
       "|---|---|---|\n",
       "| 4 | 1 | 0 | 0 | 0 | 0 | 0 | \n",
       "| 5 | 0 | 0 | 1 | 0 | 0 | 0 | \n",
       "| 7 | 0 | 1 | 0 | 0 | 0 | 0 | \n",
       "\n",
       "\n"
      ],
      "text/plain": [
       "  id_lepes educmae1_12 educmae2_12 educmae3_12 educmae4_12 educmae5_12\n",
       "1 4        1           0           0           0           0          \n",
       "2 5        0           0           1           0           0          \n",
       "3 7        0           1           0           0           0          \n",
       "  educmae6_12\n",
       "1 0          \n",
       "2 0          \n",
       "3 0          "
      ]
     },
     "metadata": {},
     "output_type": "display_data"
    }
   ],
   "source": [
    "educ_moth_12[1:3,]"
   ]
  },
  {
   "cell_type": "markdown",
   "metadata": {},
   "source": [
    "### Censo Escolar 12"
   ]
  },
  {
   "cell_type": "code",
   "execution_count": 17,
   "metadata": {},
   "outputs": [],
   "source": [
    "vars<-c('pk_cod_entidade', 'id_dependencia_adm') \n",
    "\n",
    "censo_escolas_12 <- censo_escolas_12[vars]"
   ]
  },
  {
   "cell_type": "code",
   "execution_count": 18,
   "metadata": {},
   "outputs": [],
   "source": [
    "names(censo_escolas_12)<-c('co_entidade', 'dep_esc_12')"
   ]
  },
  {
   "cell_type": "code",
   "execution_count": 19,
   "metadata": {},
   "outputs": [],
   "source": [
    "censo_escolas_12 <- merge(dic_escolas_12,censo_escolas_12,by=\"co_entidade\",all.x = TRUE)"
   ]
  },
  {
   "cell_type": "code",
   "execution_count": 20,
   "metadata": {},
   "outputs": [
    {
     "name": "stderr",
     "output_type": "stream",
     "text": [
      "The following `from` values were not present in `x`: 1\n"
     ]
    }
   ],
   "source": [
    "#Changing factors\n",
    "censo_escolas_12$dep_esc_12 <- as.factor(censo_escolas_12$dep_esc_12)\n",
    "censo_escolas_12$dep_esc_12 <- mapvalues(censo_escolas_12$dep_esc_12, from = c('1','2', '3', '4'), \n",
    "                                                                      to = c('federal', 'estadual', 'municipal', 'privada'))"
   ]
  },
  {
   "cell_type": "code",
   "execution_count": 21,
   "metadata": {},
   "outputs": [
    {
     "data": {
      "text/html": [
       "<ol class=list-inline>\n",
       "\t<li>'estadual'</li>\n",
       "\t<li>'municipal'</li>\n",
       "\t<li>'privada'</li>\n",
       "</ol>\n"
      ],
      "text/latex": [
       "\\begin{enumerate*}\n",
       "\\item 'estadual'\n",
       "\\item 'municipal'\n",
       "\\item 'privada'\n",
       "\\end{enumerate*}\n"
      ],
      "text/markdown": [
       "1. 'estadual'\n",
       "2. 'municipal'\n",
       "3. 'privada'\n",
       "\n",
       "\n"
      ],
      "text/plain": [
       "[1] \"estadual\"  \"municipal\" \"privada\"  "
      ]
     },
     "metadata": {},
     "output_type": "display_data"
    }
   ],
   "source": [
    "levels(censo_escolas_12$dep_esc_12)"
   ]
  },
  {
   "cell_type": "code",
   "execution_count": 22,
   "metadata": {},
   "outputs": [
    {
     "data": {
      "text/html": [
       "<table>\n",
       "<thead><tr><th scope=col>co_entidade</th><th scope=col>nome_escola_12</th><th scope=col>dep_esc_12</th></tr></thead>\n",
       "<tbody>\n",
       "\t<tr><td>35023486                      </td><td>ISAIAS JOSE FERREIRA DOUTOR   </td><td>estadual                      </td></tr>\n",
       "\t<tr><td>35023504                      </td><td>PROF RAUL DO PRADO VIANNA EMEF</td><td>estadual                      </td></tr>\n",
       "\t<tr><td>35023607                      </td><td>WINSTON CHURCHILL             </td><td>estadual                      </td></tr>\n",
       "</tbody>\n",
       "</table>\n"
      ],
      "text/latex": [
       "\\begin{tabular}{r|lll}\n",
       " co\\_entidade & nome\\_escola\\_12 & dep\\_esc\\_12\\\\\n",
       "\\hline\n",
       "\t 35023486                       & ISAIAS JOSE FERREIRA DOUTOR    & estadual                      \\\\\n",
       "\t 35023504                       & PROF RAUL DO PRADO VIANNA EMEF & estadual                      \\\\\n",
       "\t 35023607                       & WINSTON CHURCHILL              & estadual                      \\\\\n",
       "\\end{tabular}\n"
      ],
      "text/markdown": [
       "\n",
       "co_entidade | nome_escola_12 | dep_esc_12 | \n",
       "|---|---|---|\n",
       "| 35023486                       | ISAIAS JOSE FERREIRA DOUTOR    | estadual                       | \n",
       "| 35023504                       | PROF RAUL DO PRADO VIANNA EMEF | estadual                       | \n",
       "| 35023607                       | WINSTON CHURCHILL              | estadual                       | \n",
       "\n",
       "\n"
      ],
      "text/plain": [
       "  co_entidade nome_escola_12                 dep_esc_12\n",
       "1 35023486    ISAIAS JOSE FERREIRA DOUTOR    estadual  \n",
       "2 35023504    PROF RAUL DO PRADO VIANNA EMEF estadual  \n",
       "3 35023607    WINSTON CHURCHILL              estadual  "
      ]
     },
     "metadata": {},
     "output_type": "display_data"
    }
   ],
   "source": [
    "censo_escolas_12[1:3,]"
   ]
  },
  {
   "cell_type": "markdown",
   "metadata": {},
   "source": [
    "## Bases 17"
   ]
  },
  {
   "cell_type": "markdown",
   "metadata": {},
   "source": [
    "### Base registro 17"
   ]
  },
  {
   "cell_type": "markdown",
   "metadata": {},
   "source": [
    "Creche"
   ]
  },
  {
   "cell_type": "code",
   "execution_count": 23,
   "metadata": {},
   "outputs": [],
   "source": [
    "register_17[['creche_priv']] <- ifelse(register_17[['creche_priv_bolsa_17']]=='sim' | register_17[['creche_priv_sembolsa_17']]=='sim','sim', \n",
    "                                ifelse(register_17[['creche_priv_bolsa_17']]=='nao' & register_17[['creche_priv_sembolsa_17']]=='nao', 'nao', NA)) \n",
    "\n",
    "register_17[['creche_pub']] <- ifelse(register_17[['creche_mun_17']]=='sim' | register_17[['creche_est_17']]=='sim' | register_17[['creche_fed_17']]=='sim','sim', \n",
    "                               ifelse(register_17[['creche_mun_17']]=='nao' & register_17[['creche_est_17']]=='nao' & register_17[['creche_fed_17']]=='nao', 'nao', NA)) "
   ]
  },
  {
   "cell_type": "markdown",
   "metadata": {},
   "source": [
    "Pré"
   ]
  },
  {
   "cell_type": "code",
   "execution_count": 24,
   "metadata": {},
   "outputs": [],
   "source": [
    "register_17[['preesc_priv']] <- ifelse(register_17[['preesc_priv_bolsa_17']]=='sim' | register_17[['preesc_priv_sembolsa_17']]=='sim','sim', \n",
    "                                ifelse(register_17[['preesc_priv_bolsa_17']]=='nao' & register_17[['preesc_priv_sembolsa_17']]=='nao','nao', NA)) \n",
    "\n",
    "register_17[['preesc_pub']] <- ifelse(register_17[['preesc_mun_17']]=='sim' | register_17[['preesc_est_17']]=='sim' | register_17[['preesc_fed_17']]=='sim','sim', \n",
    "                               ifelse(register_17[['preesc_mun_17']]=='nao' & register_17[['preesc_est_17']]=='nao' & register_17[['preesc_fed_17']]=='nao', 'nao', NA)) "
   ]
  },
  {
   "cell_type": "markdown",
   "metadata": {},
   "source": [
    "Série 17"
   ]
  },
  {
   "cell_type": "code",
   "execution_count": 25,
   "metadata": {},
   "outputs": [],
   "source": [
    "register_17[['serie_17']] <- ifelse(register_17[['serie_17']]=='7_ANO_EF','7',\n",
    "                             ifelse(register_17[['serie_17']]=='8_ANO_EF','8',\n",
    "                             ifelse(register_17[['serie_17']]=='9_ANO_EF','9',\n",
    "                             ifelse(register_17[['serie_17']]=='1_SERIE_EM','10',\n",
    "                             ifelse(register_17[['serie_17']]=='2_SERIE_EM','11',\n",
    "                             ifelse(register_17[['serie_17']]=='3_SERIE_EM','12',NA))))))"
   ]
  },
  {
   "cell_type": "markdown",
   "metadata": {},
   "source": [
    "Selecionando variáveis"
   ]
  },
  {
   "cell_type": "code",
   "execution_count": 26,
   "metadata": {},
   "outputs": [],
   "source": [
    "vars<-c(\"id_lepes\",'serie_17','genero_17', 'cor_17', \n",
    "        'pais_incentivo_17', 'mora_pai_17', 'mora_mae_17', 'vive_pai_17', 'vive_mae_17',\n",
    "        'creche_pub', 'creche_priv', 'preesc_pub', 'preesc_priv', #creche e preesc\n",
    "        'reprov_17', 'reprov_1s_17', 'reprov_2s_17', 'reprov_3s_17', #reprov\n",
    "        'reprov_4s_17', 'reprov_5s_17', 'reprov_6s_17', 'reprov_7s_17', #reprov\n",
    "        'reprov_8s_17', 'reprov_1em_17', 'reprov_2em_17', 'trabalha_17', 'aband_17') #reprov\n",
    "\n",
    "register_17 <- register_17[vars]\n",
    "\n",
    "names(register_17)<-c(\"id_lepes\",'serie_17','genero_17', 'cor_17', \n",
    "                        'pais_incentivo_17', 'mora_pai_17', 'mora_mae_17', 'vive_pai_17', 'vive_mae_17',\n",
    "                        'creche_pub', 'creche_priv', 'preesc_pub', 'preesc_priv', #creche e preesc\n",
    "                        'reprov_17', 'reprov_2a_17', 'reprov_3a_17', 'reprov_4a_17', #reprov\n",
    "                        'reprov_5a_17', 'reprov_6a_17', 'reprov_7a_17', 'reprov_8a_17', #reprov\n",
    "                        'reprov_9a_17', 'reprov_1em_17', 'reprov_2em_17', 'trabalha_17', 'aband_17')"
   ]
  },
  {
   "cell_type": "code",
   "execution_count": 27,
   "metadata": {},
   "outputs": [
    {
     "data": {
      "text/html": [
       "<table>\n",
       "<thead><tr><th scope=col>id_lepes</th><th scope=col>serie_17</th><th scope=col>genero_17</th><th scope=col>cor_17</th><th scope=col>pais_incentivo_17</th><th scope=col>mora_pai_17</th><th scope=col>mora_mae_17</th><th scope=col>vive_pai_17</th><th scope=col>vive_mae_17</th><th scope=col>creche_pub</th><th scope=col>⋯</th><th scope=col>reprov_4a_17</th><th scope=col>reprov_5a_17</th><th scope=col>reprov_6a_17</th><th scope=col>reprov_7a_17</th><th scope=col>reprov_8a_17</th><th scope=col>reprov_9a_17</th><th scope=col>reprov_1em_17</th><th scope=col>reprov_2em_17</th><th scope=col>trabalha_17</th><th scope=col>aband_17</th></tr></thead>\n",
       "<tbody>\n",
       "\t<tr><td> 5           </td><td>10           </td><td>mulher       </td><td>preta        </td><td>sim, um pouco</td><td>sim          </td><td>sim          </td><td>sim          </td><td>sim          </td><td>nao          </td><td>⋯            </td><td>nao          </td><td>nao          </td><td>nao          </td><td>nao          </td><td>nao          </td><td>nao          </td><td>nao          </td><td>nao          </td><td>nao          </td><td>nenhuma      </td></tr>\n",
       "\t<tr><td> 8           </td><td>11           </td><td>homem        </td><td>parda        </td><td>sim, muito   </td><td>sim          </td><td>sim          </td><td>sim          </td><td>sim          </td><td>nao          </td><td>⋯            </td><td>nao          </td><td>nao          </td><td>nao          </td><td>nao          </td><td>nao          </td><td>nao          </td><td>nao          </td><td>nao          </td><td>nao          </td><td>nenhuma      </td></tr>\n",
       "\t<tr><td>14           </td><td>11           </td><td>homem        </td><td>parda        </td><td>sim, muito   </td><td>nao          </td><td>sim          </td><td>sim          </td><td>sim          </td><td>nao          </td><td>⋯            </td><td>nao          </td><td>nao          </td><td>nao          </td><td>nao          </td><td>nao          </td><td>nao          </td><td>nao          </td><td>nao          </td><td>sim          </td><td>nenhuma      </td></tr>\n",
       "</tbody>\n",
       "</table>\n"
      ],
      "text/latex": [
       "\\begin{tabular}{r|llllllllllllllllllllllllll}\n",
       " id\\_lepes & serie\\_17 & genero\\_17 & cor\\_17 & pais\\_incentivo\\_17 & mora\\_pai\\_17 & mora\\_mae\\_17 & vive\\_pai\\_17 & vive\\_mae\\_17 & creche\\_pub & ⋯ & reprov\\_4a\\_17 & reprov\\_5a\\_17 & reprov\\_6a\\_17 & reprov\\_7a\\_17 & reprov\\_8a\\_17 & reprov\\_9a\\_17 & reprov\\_1em\\_17 & reprov\\_2em\\_17 & trabalha\\_17 & aband\\_17\\\\\n",
       "\\hline\n",
       "\t  5            & 10            & mulher        & preta         & sim, um pouco & sim           & sim           & sim           & sim           & nao           & ⋯             & nao           & nao           & nao           & nao           & nao           & nao           & nao           & nao           & nao           & nenhuma      \\\\\n",
       "\t  8            & 11            & homem         & parda         & sim, muito    & sim           & sim           & sim           & sim           & nao           & ⋯             & nao           & nao           & nao           & nao           & nao           & nao           & nao           & nao           & nao           & nenhuma      \\\\\n",
       "\t 14            & 11            & homem         & parda         & sim, muito    & nao           & sim           & sim           & sim           & nao           & ⋯             & nao           & nao           & nao           & nao           & nao           & nao           & nao           & nao           & sim           & nenhuma      \\\\\n",
       "\\end{tabular}\n"
      ],
      "text/markdown": [
       "\n",
       "id_lepes | serie_17 | genero_17 | cor_17 | pais_incentivo_17 | mora_pai_17 | mora_mae_17 | vive_pai_17 | vive_mae_17 | creche_pub | ⋯ | reprov_4a_17 | reprov_5a_17 | reprov_6a_17 | reprov_7a_17 | reprov_8a_17 | reprov_9a_17 | reprov_1em_17 | reprov_2em_17 | trabalha_17 | aband_17 | \n",
       "|---|---|---|\n",
       "|  5            | 10            | mulher        | preta         | sim, um pouco | sim           | sim           | sim           | sim           | nao           | ⋯             | nao           | nao           | nao           | nao           | nao           | nao           | nao           | nao           | nao           | nenhuma       | \n",
       "|  8            | 11            | homem         | parda         | sim, muito    | sim           | sim           | sim           | sim           | nao           | ⋯             | nao           | nao           | nao           | nao           | nao           | nao           | nao           | nao           | nao           | nenhuma       | \n",
       "| 14            | 11            | homem         | parda         | sim, muito    | nao           | sim           | sim           | sim           | nao           | ⋯             | nao           | nao           | nao           | nao           | nao           | nao           | nao           | nao           | sim           | nenhuma       | \n",
       "\n",
       "\n"
      ],
      "text/plain": [
       "  id_lepes serie_17 genero_17 cor_17 pais_incentivo_17 mora_pai_17 mora_mae_17\n",
       "1  5       10       mulher    preta  sim, um pouco     sim         sim        \n",
       "2  8       11       homem     parda  sim, muito        sim         sim        \n",
       "3 14       11       homem     parda  sim, muito        nao         sim        \n",
       "  vive_pai_17 vive_mae_17 creche_pub ⋯ reprov_4a_17 reprov_5a_17 reprov_6a_17\n",
       "1 sim         sim         nao        ⋯ nao          nao          nao         \n",
       "2 sim         sim         nao        ⋯ nao          nao          nao         \n",
       "3 sim         sim         nao        ⋯ nao          nao          nao         \n",
       "  reprov_7a_17 reprov_8a_17 reprov_9a_17 reprov_1em_17 reprov_2em_17\n",
       "1 nao          nao          nao          nao           nao          \n",
       "2 nao          nao          nao          nao           nao          \n",
       "3 nao          nao          nao          nao           nao          \n",
       "  trabalha_17 aband_17\n",
       "1 nao         nenhuma \n",
       "2 nao         nenhuma \n",
       "3 sim         nenhuma "
      ]
     },
     "metadata": {},
     "output_type": "display_data"
    }
   ],
   "source": [
    "register_17[1:3,]"
   ]
  },
  {
   "cell_type": "markdown",
   "metadata": {},
   "source": [
    "### Escolaridade da mãe 17"
   ]
  },
  {
   "cell_type": "code",
   "execution_count": 28,
   "metadata": {},
   "outputs": [],
   "source": [
    "names(educ_moth_17) <- c('id_lepes', 'educmae1_17', 'educmae2_17', 'educmae3_17', \n",
    "                                     'educmae4_17', 'educmae5_17', 'educmae6_17', 'diverge')"
   ]
  },
  {
   "cell_type": "code",
   "execution_count": 29,
   "metadata": {
    "scrolled": true
   },
   "outputs": [
    {
     "data": {
      "text/html": [
       "<table>\n",
       "<thead><tr><th scope=col>id_lepes</th><th scope=col>educmae1_17</th><th scope=col>educmae2_17</th><th scope=col>educmae3_17</th><th scope=col>educmae4_17</th><th scope=col>educmae5_17</th><th scope=col>educmae6_17</th><th scope=col>diverge</th></tr></thead>\n",
       "<tbody>\n",
       "\t<tr><td>18</td><td>0 </td><td>0 </td><td>0 </td><td>1 </td><td>0 </td><td>0 </td><td>0 </td></tr>\n",
       "\t<tr><td>21</td><td>0 </td><td>0 </td><td>1 </td><td>0 </td><td>0 </td><td>0 </td><td>0 </td></tr>\n",
       "\t<tr><td>22</td><td>0 </td><td>1 </td><td>0 </td><td>0 </td><td>0 </td><td>0 </td><td>1 </td></tr>\n",
       "</tbody>\n",
       "</table>\n"
      ],
      "text/latex": [
       "\\begin{tabular}{r|llllllll}\n",
       " id\\_lepes & educmae1\\_17 & educmae2\\_17 & educmae3\\_17 & educmae4\\_17 & educmae5\\_17 & educmae6\\_17 & diverge\\\\\n",
       "\\hline\n",
       "\t 18 & 0  & 0  & 0  & 1  & 0  & 0  & 0 \\\\\n",
       "\t 21 & 0  & 0  & 1  & 0  & 0  & 0  & 0 \\\\\n",
       "\t 22 & 0  & 1  & 0  & 0  & 0  & 0  & 1 \\\\\n",
       "\\end{tabular}\n"
      ],
      "text/markdown": [
       "\n",
       "id_lepes | educmae1_17 | educmae2_17 | educmae3_17 | educmae4_17 | educmae5_17 | educmae6_17 | diverge | \n",
       "|---|---|---|\n",
       "| 18 | 0  | 0  | 0  | 1  | 0  | 0  | 0  | \n",
       "| 21 | 0  | 0  | 1  | 0  | 0  | 0  | 0  | \n",
       "| 22 | 0  | 1  | 0  | 0  | 0  | 0  | 1  | \n",
       "\n",
       "\n"
      ],
      "text/plain": [
       "  id_lepes educmae1_17 educmae2_17 educmae3_17 educmae4_17 educmae5_17\n",
       "1 18       0           0           0           1           0          \n",
       "2 21       0           0           1           0           0          \n",
       "3 22       0           1           0           0           0          \n",
       "  educmae6_17 diverge\n",
       "1 0           0      \n",
       "2 0           0      \n",
       "3 0           1      "
      ]
     },
     "metadata": {},
     "output_type": "display_data"
    }
   ],
   "source": [
    "educ_moth_17[1:3,]"
   ]
  },
  {
   "cell_type": "markdown",
   "metadata": {},
   "source": [
    "## Mergeando as bases"
   ]
  },
  {
   "cell_type": "code",
   "execution_count": 30,
   "metadata": {},
   "outputs": [],
   "source": [
    "data_12 <- Reduce(function(...) merge(..., by='id_lepes', all=TRUE), list(context_12, se_12, grades_12, educ_moth_12))\n",
    "data_17 <- Reduce(function(...) merge(..., by='id_lepes', all=TRUE), list(register_17, educ_moth_17))"
   ]
  },
  {
   "cell_type": "code",
   "execution_count": 31,
   "metadata": {},
   "outputs": [],
   "source": [
    "data_17$esta_17 <- 1"
   ]
  },
  {
   "cell_type": "code",
   "execution_count": 32,
   "metadata": {},
   "outputs": [],
   "source": [
    "data <- merge(data_12, data_17, by='id_lepes', all.x=TRUE)"
   ]
  },
  {
   "cell_type": "code",
   "execution_count": 33,
   "metadata": {},
   "outputs": [],
   "source": [
    "remove(data_12)\n",
    "remove(data_17)\n",
    "remove(context_12)\n",
    "remove(se_12)\n",
    "remove(grades_12)\n",
    "remove(educ_moth_12)\n",
    "remove(register_17)\n",
    "remove(educ_moth_17)"
   ]
  },
  {
   "cell_type": "code",
   "execution_count": 34,
   "metadata": {},
   "outputs": [],
   "source": [
    "data$esta_17[is.na(data$esta_17)] <- 0"
   ]
  },
  {
   "cell_type": "code",
   "execution_count": 35,
   "metadata": {},
   "outputs": [
    {
     "data": {
      "text/html": [
       "0.639926888708367"
      ],
      "text/latex": [
       "0.639926888708367"
      ],
      "text/markdown": [
       "0.639926888708367"
      ],
      "text/plain": [
       "[1] 0.6399269"
      ]
     },
     "metadata": {},
     "output_type": "display_data"
    }
   ],
   "source": [
    "mean(data$esta_17)"
   ]
  },
  {
   "cell_type": "markdown",
   "metadata": {},
   "source": [
    "Variável Etnia"
   ]
  },
  {
   "cell_type": "code",
   "execution_count": 36,
   "metadata": {},
   "outputs": [],
   "source": [
    "data$etnia_12 <- mapvalues(data$etnia_12, from = c('Branco', 'Pardo', 'Preto', 'Amerelo', 'Indígena'), \n",
    "                           to = c('branca', 'parda', 'preta', 'amarela', 'indigena'))"
   ]
  },
  {
   "cell_type": "code",
   "execution_count": 37,
   "metadata": {},
   "outputs": [
    {
     "data": {
      "text/html": [
       "<ol class=list-inline>\n",
       "\t<li>'indigena'</li>\n",
       "\t<li>'preta'</li>\n",
       "\t<li>'amarela'</li>\n",
       "\t<li>'branca'</li>\n",
       "\t<li>'parda'</li>\n",
       "</ol>\n"
      ],
      "text/latex": [
       "\\begin{enumerate*}\n",
       "\\item 'indigena'\n",
       "\\item 'preta'\n",
       "\\item 'amarela'\n",
       "\\item 'branca'\n",
       "\\item 'parda'\n",
       "\\end{enumerate*}\n"
      ],
      "text/markdown": [
       "1. 'indigena'\n",
       "2. 'preta'\n",
       "3. 'amarela'\n",
       "4. 'branca'\n",
       "5. 'parda'\n",
       "\n",
       "\n"
      ],
      "text/plain": [
       "[1] \"indigena\" \"preta\"    \"amarela\"  \"branca\"   \"parda\"   "
      ]
     },
     "metadata": {},
     "output_type": "display_data"
    }
   ],
   "source": [
    "data$etnia <- data$cor_17\n",
    "data$etnia[is.na(data$etnia)] <- data$etnia_12[is.na(data$etnia)]\n",
    "\n",
    "levels(data$etnia)"
   ]
  },
  {
   "cell_type": "markdown",
   "metadata": {},
   "source": [
    "Variável Gênero"
   ]
  },
  {
   "cell_type": "code",
   "execution_count": 38,
   "metadata": {},
   "outputs": [],
   "source": [
    "data$sexo_12 <- mapvalues(data$sexo_12, from = c('Feminino', 'Masculino'), \n",
    "                                          to = c('mulher', 'homem'))"
   ]
  },
  {
   "cell_type": "code",
   "execution_count": 39,
   "metadata": {},
   "outputs": [
    {
     "data": {
      "text/html": [
       "<ol class=list-inline>\n",
       "\t<li>'mulher'</li>\n",
       "\t<li>'homem'</li>\n",
       "</ol>\n"
      ],
      "text/latex": [
       "\\begin{enumerate*}\n",
       "\\item 'mulher'\n",
       "\\item 'homem'\n",
       "\\end{enumerate*}\n"
      ],
      "text/markdown": [
       "1. 'mulher'\n",
       "2. 'homem'\n",
       "\n",
       "\n"
      ],
      "text/plain": [
       "[1] \"mulher\" \"homem\" "
      ]
     },
     "metadata": {},
     "output_type": "display_data"
    }
   ],
   "source": [
    "data$genero <- data$genero_17\n",
    "data$genero[is.na(data$genero)] <- data$sexo_12[is.na(data$genero)]\n",
    "\n",
    "levels(data$genero)"
   ]
  },
  {
   "cell_type": "code",
   "execution_count": 40,
   "metadata": {},
   "outputs": [],
   "source": [
    "#Estavam com gênereo NA\n",
    "homens <- c('DANILO PEREIRA MENDES DOS SANTOS', 'GABRIEL PEREIRA TORRES', 'JULIO CESAR DE OLIVEIRA NEVES', \n",
    "            'MAYCON DOUGLAS ALVES DA SILVA', 'PAULO HENRIQUE DA SILVA CORREIA', 'TIAGO PAIS SOBRINHO')\n",
    "mulheres <- c('BRUNA APARECIDA MOSQUETI' , 'CHAIANE VICTORIA DA COSTA', 'ERICA OLIVEIRA SILVA',\n",
    "              'KIMBERLY GONCALVES PEREIRA DIAS', 'MARIA EDUARDA DE CARVALHO',\n",
    "              'STEFANIE CRISTINA VIANA RIBEIRO', 'VIVIANE MARIA DA SILVA NASCIMENTO')\n",
    "\n",
    "#mulheres\n",
    "index <- (data$nome_aluno_12 %in% mulheres)\n",
    "data[index,]$genero <- 'mulher'\n",
    "\n",
    "#homens\n",
    "index <- (data$nome_aluno_12 %in% homens)\n",
    "data[index,]$genero <- 'homem'"
   ]
  },
  {
   "cell_type": "code",
   "execution_count": 41,
   "metadata": {},
   "outputs": [],
   "source": [
    "#Corrigindo inconsistências\n",
    "homens <- c(340, 1364, 1580, 1608, 1618, 3787)\n",
    "mulheres <- c(127, 387, 4382, 4791)\n",
    "\n",
    "#mulheres\n",
    "index <- (data$id_lepes %in% mulheres)\n",
    "data[index,]$genero <- 'mulher'\n",
    "\n",
    "#homens\n",
    "index <- (data$id_lepes %in% homens)\n",
    "data[index,]$genero <- 'homem'"
   ]
  },
  {
   "cell_type": "markdown",
   "metadata": {},
   "source": [
    "Reprovação antes 2012"
   ]
  },
  {
   "cell_type": "code",
   "execution_count": 42,
   "metadata": {},
   "outputs": [],
   "source": [
    "data$reprov_antes_12_12 <- mapvalues(data$reprov_antes_12_12, from = c('Nunca', 'Uma', 'Duas', 'Três ou mais'), \n",
    "                                                                to = c('nao', 'sim', 'sim', 'sim'))"
   ]
  },
  {
   "cell_type": "code",
   "execution_count": 43,
   "metadata": {},
   "outputs": [],
   "source": [
    "#data$reprov_antes_12_17 <- NA"
   ]
  },
  {
   "cell_type": "code",
   "execution_count": 44,
   "metadata": {},
   "outputs": [],
   "source": [
    "#Explicar pq não incluiu a série de 12\n",
    "\n",
    "#serie 4\n",
    "#index <- (data$serie_12==4) & !is.na(data$serie_12)\n",
    "#data[index,]$reprov_antes_12_17 <- ifelse(data[index,]$reprov_2a_17=='sim' | data[index,]$reprov_3a_17=='sim', 'sim',\n",
    "#                                   ifelse(is.na(data[index,]$reprov_2a_17), NA, 'nao'))\n",
    "\n",
    "#serie 5\n",
    "#index <- (data$serie_12==5) & !is.na(data$serie_12)\n",
    "#data[index,]$reprov_antes_12_17 <- ifelse(data[index,]$reprov_2a_17=='sim' | data[index,]$reprov_3a_17=='sim' | data[index,]$reprov_4a_17=='sim', 'sim',\n",
    "#                                   ifelse(is.na(data[index,]$reprov_1s_17), NA, 'nao'))\n",
    "\n",
    "#serie 6\n",
    "#index <- (data$serie_12==6) & !is.na(data$serie_12)\n",
    "#data[index,]$reprov_antes_12_17 <- ifelse(data[index,]$reprov_2a_17=='sim' | data[index,]$reprov_3a_17=='sim' | data[index,]$reprov_4a_17=='sim' | data[index,]$reprov_5a_17 =='sim', 'sim',\n",
    "#                                   ifelse(is.na(data[index,]$reprov_1s_17), NA, 'nao'))"
   ]
  },
  {
   "cell_type": "code",
   "execution_count": 45,
   "metadata": {},
   "outputs": [],
   "source": [
    "#data$reprov_antes_12_17 <- as.factor(data$reprov_antes_12_17)"
   ]
  },
  {
   "cell_type": "code",
   "execution_count": 46,
   "metadata": {
    "scrolled": true
   },
   "outputs": [],
   "source": [
    "#Consolidando\n",
    "#data$reprov_antes_12 <- NA\n",
    "#data$reprov_antes_12 <- ifelse(data$reprov_antes_12_12=='sim','sim',\n",
    "#                        ifelse(data$reprov_antes_12_17=='sim','sim',\n",
    "#                        ifelse(is.na(data$reprov_antes_12_12) & is.na(data$reprov_antes_12_17),NA,'não')))\n",
    "\n",
    "#data$reprov_antes_12 <- as.factor(data$reprov_antes_12)\n",
    "\n",
    "#levels(data$reprov_antes_12)"
   ]
  },
  {
   "cell_type": "code",
   "execution_count": 47,
   "metadata": {},
   "outputs": [],
   "source": [
    "data$reprov_antes_12 <- data$reprov_antes_12_12"
   ]
  },
  {
   "cell_type": "markdown",
   "metadata": {},
   "source": [
    "Reprovou entre 12 e 17"
   ]
  },
  {
   "cell_type": "code",
   "execution_count": 48,
   "metadata": {},
   "outputs": [
    {
     "data": {
      "text/plain": [
       "\n",
       "  10   11   12    7    8    9 \n",
       "1096  873   18   29  169  959 "
      ]
     },
     "metadata": {},
     "output_type": "display_data"
    }
   ],
   "source": [
    "table(data$serie_17)"
   ]
  },
  {
   "cell_type": "code",
   "execution_count": 50,
   "metadata": {},
   "outputs": [
    {
     "data": {
      "text/plain": [
       "   \n",
       "     10  11  12   7   8   9\n",
       "  4   7   0   0   2   9  32\n",
       "  5 919  25   2   3  28 100\n",
       "  6 112 783  16   1   6  25"
      ]
     },
     "metadata": {},
     "output_type": "display_data"
    }
   ],
   "source": [
    "table(data$serie_12,data$serie_17)"
   ]
  },
  {
   "cell_type": "code",
   "execution_count": 51,
   "metadata": {},
   "outputs": [],
   "source": [
    "data$reprov_8a_17 <- as.character(data$reprov_8a_17)\n",
    "data$reprov_9a_17 <- as.character(data$reprov_9a_17)\n",
    "data$reprov_1em_17 <- as.character(data$reprov_1em_17)\n",
    "data$reprov_2em_17 <- as.character(data$reprov_2em_17)"
   ]
  },
  {
   "cell_type": "code",
   "execution_count": 52,
   "metadata": {},
   "outputs": [],
   "source": [
    "data$reprov_8a_17 <- ifelse(data$serie_17=='7','nao',data$reprov_8a_17)\n",
    "data$reprov_9a_17 <- ifelse(data$serie_17=='7' | data$serie_17=='8','nao',data$reprov_9a_17)\n",
    "data$reprov_1em_17 <- ifelse(data$serie_17=='7' | data$serie_17=='8' | data$serie_17=='9','nao',data$reprov_1em_17)\n",
    "data$reprov_2em_17 <- ifelse(data$serie_17=='7' | data$serie_17=='8' | data$serie_17=='9' | data$serie_17=='10','nao',data$reprov_2em_17)"
   ]
  },
  {
   "cell_type": "code",
   "execution_count": 53,
   "metadata": {},
   "outputs": [],
   "source": [
    "data$reprov_depois_12<-NA\n",
    "\n",
    "#serie 4\n",
    "index <- (data$serie_12==4) & !is.na(data$serie_12)\n",
    "data[index,]$reprov_depois_12 <- ifelse(data[index,]$reprov_4a_17=='sim' & data[index,]$reprov_antes_12=='nao', 'sim',\n",
    "                                 ifelse(data[index,]$reprov_5a_17=='sim' | data[index,]$reprov_6a_17=='sim' | data[index,]$reprov_7a_17=='sim' | data[index,]$reprov_8a_17=='sim', 'sim',                                   \n",
    "                                 ifelse(is.na(data[index,]$reprov_4a_17), NA, 'nao')))\n",
    "\n",
    "#serie 5\n",
    "index <- (data$serie_12==5) & !is.na(data$serie_12)\n",
    "data[index,]$reprov_depois_12 <- ifelse(data[index,]$reprov_5a_17=='sim' & data[index,]$reprov_antes_12=='nao', 'sim',\n",
    "                                 ifelse(data[index,]$reprov_6a_17=='sim' | data[index,]$reprov_7a_17=='sim' | data[index,]$reprov_8a_17=='sim' | data[index,]$reprov_9a_17=='sim', 'sim',                                   \n",
    "                                 ifelse(is.na(data[index,]$reprov_5a_17), NA, 'nao')))\n",
    "\n",
    "#serie 6\n",
    "index <- (data$serie_12==6) & !is.na(data$serie_12)\n",
    "data[index,]$reprov_depois_12 <- ifelse(data[index,]$reprov_6a_17=='sim' & data[index,]$reprov_antes_12=='nao', 'sim',\n",
    "                                 ifelse(data[index,]$reprov_7a_17=='sim' | data[index,]$reprov_8a_17=='sim' | data[index,]$reprov_9a_17=='sim' | data[index,]$reprov_1em_17=='sim', 'sim',                                   \n",
    "                                 ifelse(is.na(data[index,]$reprov_7a_17), NA, 'nao')))\n",
    "\n",
    "data$reprov_depois_12 <- as.factor(data$reprov_depois_12)"
   ]
  },
  {
   "cell_type": "markdown",
   "metadata": {},
   "source": [
    "Educação da mãe"
   ]
  },
  {
   "cell_type": "code",
   "execution_count": 54,
   "metadata": {},
   "outputs": [],
   "source": [
    "data$educmae_12<-as.numeric(apply(data %>% select(educmae1_12:educmae6_12),1,which.max))\n",
    "data$educmae_17<-as.numeric(apply(data %>% select(educmae1_17:educmae6_17),1,which.max))"
   ]
  },
  {
   "cell_type": "code",
   "execution_count": 55,
   "metadata": {},
   "outputs": [],
   "source": [
    "data$educmae <- ifelse(is.na(data$educmae_17) | data$educmae_17 > data$educmae_12, data$educmae_12, data$educmae_17)\n",
    "data$educmae <- as.factor(data$educmae)"
   ]
  },
  {
   "cell_type": "code",
   "execution_count": 56,
   "metadata": {},
   "outputs": [
    {
     "data": {
      "text/html": [
       "<ol class=list-inline>\n",
       "\t<li>'nunca_estudou'</li>\n",
       "\t<li>'ef1'</li>\n",
       "\t<li>'ef2'</li>\n",
       "\t<li>'em'</li>\n",
       "\t<li>'superior'</li>\n",
       "\t<li>'nao_sabe'</li>\n",
       "</ol>\n"
      ],
      "text/latex": [
       "\\begin{enumerate*}\n",
       "\\item 'nunca\\_estudou'\n",
       "\\item 'ef1'\n",
       "\\item 'ef2'\n",
       "\\item 'em'\n",
       "\\item 'superior'\n",
       "\\item 'nao\\_sabe'\n",
       "\\end{enumerate*}\n"
      ],
      "text/markdown": [
       "1. 'nunca_estudou'\n",
       "2. 'ef1'\n",
       "3. 'ef2'\n",
       "4. 'em'\n",
       "5. 'superior'\n",
       "6. 'nao_sabe'\n",
       "\n",
       "\n"
      ],
      "text/plain": [
       "[1] \"nunca_estudou\" \"ef1\"           \"ef2\"           \"em\"           \n",
       "[5] \"superior\"      \"nao_sabe\"     "
      ]
     },
     "metadata": {},
     "output_type": "display_data"
    }
   ],
   "source": [
    "data$educmae <- mapvalues(data$educmae, from = c('1', '2', '3', '4', '5', '6'), \n",
    "                                          to = c('nunca_estudou', 'ef1', 'ef2', 'em','superior','nao_sabe'))\n",
    "\n",
    "levels(data$educmae)"
   ]
  },
  {
   "cell_type": "markdown",
   "metadata": {},
   "source": [
    "## Selecionando variáveis para exportar"
   ]
  },
  {
   "cell_type": "markdown",
   "metadata": {},
   "source": [
    "Mergeando base do censo escolar"
   ]
  },
  {
   "cell_type": "code",
   "execution_count": 57,
   "metadata": {},
   "outputs": [],
   "source": [
    "data <- merge(data,censo_escolas_12,by=\"nome_escola_12\",all.x = TRUE)"
   ]
  },
  {
   "cell_type": "markdown",
   "metadata": {},
   "source": [
    "Selecionando variáveis:"
   ]
  },
  {
   "cell_type": "code",
   "execution_count": 59,
   "metadata": {},
   "outputs": [],
   "source": [
    "vars <- c('id_lepes', 'serie_12', 'serie_17', 'esta_17', 'mes_nasc', 'ano_nasc',\n",
    "          'dep_esc_12', 'etnia', 'genero', 'reprov_antes_12', 'educmae',         #Demographic\n",
    "          'creche_pub', 'creche_priv', 'preesc_pub', 'preesc_priv',              #Childhooh Ed.\n",
    "          'act_c_12', 'aes_c_12', 'alt_c_12', 'anx_c_12', 'ass_c_12',            #Facets\n",
    "          'cmp_c_12', 'dep_c_12', 'ids_c_12', 'ord_c_12', 'sfd_c_12',            #Facets\n",
    "          'habilidade_port_12', 'habilidade_mat_12')                             #Grades\n",
    "\n",
    "data <- data[vars]"
   ]
  },
  {
   "cell_type": "markdown",
   "metadata": {},
   "source": [
    "Renomeando variáveis para inglês:"
   ]
  },
  {
   "cell_type": "code",
   "execution_count": 60,
   "metadata": {},
   "outputs": [],
   "source": [
    "names(data) <- c('id', 'grade_2012', 'grade_2017', 'follow_up', 'month', 'year',\n",
    "                 'school_2012', 'ethinicity', 'gender', 'failed_before_2012', 'mother_educ',      #Demographic\n",
    "                 'pre_k_pub', 'pre_k_priv', 'kinder_pub', 'kinder_priv',                #Childhooh Ed.\n",
    "                 'act_2012', 'aes_2012', 'alt_2012', 'anx_2012', 'ass_2012',            #Facets\n",
    "                 'cmp_2012', 'dep_2012', 'ids_2012', 'ord_2012', 'sfd_2012',            #Facets\n",
    "                 'lang_2012', 'math_2012')                                              #Math & Port"
   ]
  },
  {
   "cell_type": "markdown",
   "metadata": {},
   "source": [
    "Exportando csv"
   ]
  },
  {
   "cell_type": "code",
   "execution_count": 69,
   "metadata": {},
   "outputs": [],
   "source": [
    "write.table(data,'/home/felipe/Desktop/Paper Bayesiana/Bases/bayesian_paper.csv', sep=\";\", dec='.')"
   ]
  },
  {
   "cell_type": "code",
   "execution_count": 70,
   "metadata": {},
   "outputs": [
    {
     "data": {
      "text/html": [
       "2.2"
      ],
      "text/latex": [
       "2.2"
      ],
      "text/markdown": [
       "2.2"
      ],
      "text/plain": [
       "[1] 2.2"
      ]
     },
     "metadata": {},
     "output_type": "display_data"
    }
   ],
   "source": [
    "2.2"
   ]
  }
 ],
 "metadata": {
  "kernelspec": {
   "display_name": "R",
   "language": "R",
   "name": "ir"
  },
  "language_info": {
   "codemirror_mode": "r",
   "file_extension": ".r",
   "mimetype": "text/x-r-source",
   "name": "R",
   "pygments_lexer": "r",
   "version": "3.5.1"
  }
 },
 "nbformat": 4,
 "nbformat_minor": 2
}
